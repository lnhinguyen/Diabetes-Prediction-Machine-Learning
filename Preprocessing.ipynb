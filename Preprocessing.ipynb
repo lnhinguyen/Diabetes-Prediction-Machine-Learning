{
  "nbformat": 4,
  "nbformat_minor": 0,
  "metadata": {
    "colab": {
      "provenance": []
    },
    "kernelspec": {
      "name": "python3",
      "display_name": "Python 3"
    },
    "language_info": {
      "name": "python"
    }
  },
  "cells": [
    {
      "cell_type": "markdown",
      "source": [
        "Part 1 includes all data preprocessing steps. There are two methods to choose variables: literature review & SelectKBest."
      ],
      "metadata": {
        "id": "32SjKPX70alq"
      }
    },
    {
      "cell_type": "markdown",
      "source": [
        "# 1. Import libraries & data"
      ],
      "metadata": {
        "id": "cT8SfJGkgiUt"
      }
    },
    {
      "cell_type": "code",
      "execution_count": null,
      "metadata": {
        "id": "aPLi7Mb2EKZF"
      },
      "outputs": [],
      "source": [
        "import pandas as pd\n",
        "import numpy as np"
      ]
    },
    {
      "cell_type": "code",
      "source": [
        "# read file\n",
        "\n",
        "df = pd.read_csv('original_data.csv')"
      ],
      "metadata": {
        "id": "5SIhPGb8EOy9"
      },
      "execution_count": null,
      "outputs": []
    },
    {
      "cell_type": "code",
      "source": [
        "df.info()"
      ],
      "metadata": {
        "colab": {
          "base_uri": "https://localhost:8080/"
        },
        "id": "HIKo8zmfEZV7",
        "outputId": "a32c98ea-d8ea-4075-cdee-062cf57fe748"
      },
      "execution_count": null,
      "outputs": [
        {
          "output_type": "stream",
          "name": "stdout",
          "text": [
            "<class 'pandas.core.frame.DataFrame'>\n",
            "RangeIndex: 27651 entries, 0 to 27650\n",
            "Columns: 637 entries, URBRRL to POVRATTC_A\n",
            "dtypes: float64(399), int64(237), object(1)\n",
            "memory usage: 134.4+ MB\n"
          ]
        }
      ]
    },
    {
      "cell_type": "markdown",
      "source": [
        "The original dataset has 637 columns, 27651 rows. After thorough literature review, I chose 27 predictors for our models, divided into Socio-demmographic (5), Physical Health (7), Hospitalization history (5), and Habits (10)."
      ],
      "metadata": {
        "id": "7j0Ytsr9XUoJ"
      }
    },
    {
      "cell_type": "markdown",
      "source": [
        "# 2. Select variables"
      ],
      "metadata": {
        "id": "q3PKKIERgpCn"
      }
    },
    {
      "cell_type": "code",
      "source": [
        "# Select column\n",
        "\n",
        "df = df[['DIBEV_A','GESDIB_A',                                                     # output variables\n",
        "         'AGEP_A','RACEALLP_A','SEX_A','EDUCP_A','BMICAT_A',                       # socio-demographic\n",
        "         'PHSTAT_A','HYPEV_A','CHLEV_A','STREV_A','MIEV_A','CHDEV_A','COPDEV_A',   # physical health\n",
        "         'LASTDR_A','URGNT12MTC_A','EMERG12MTC_A','HOSPONGT_A','RX12M_A',          # hospital record\n",
        "         'MODFREQW_A','EQUIP_A','SMKEV_A','DRKLIFE_A','SODATP_A','SPORDRTP_A',     # habits\n",
        "         'FRTDRTP_A','FRUITTP_A','SALADTP_A','SLPHOURS_A']]"
      ],
      "metadata": {
        "id": "wgQvV8_hdQWH"
      },
      "execution_count": null,
      "outputs": []
    },
    {
      "cell_type": "code",
      "source": [
        "df.info()"
      ],
      "metadata": {
        "colab": {
          "base_uri": "https://localhost:8080/"
        },
        "id": "DSTRyGh9gTLu",
        "outputId": "7e06dc0b-0010-4f49-e471-25d52753f3d0"
      },
      "execution_count": null,
      "outputs": [
        {
          "output_type": "stream",
          "name": "stdout",
          "text": [
            "<class 'pandas.core.frame.DataFrame'>\n",
            "RangeIndex: 27651 entries, 0 to 27650\n",
            "Data columns (total 29 columns):\n",
            " #   Column        Non-Null Count  Dtype  \n",
            "---  ------        --------------  -----  \n",
            " 0   DIBEV_A       27651 non-null  int64  \n",
            " 1   GESDIB_A      15050 non-null  float64\n",
            " 2   AGEP_A        27651 non-null  int64  \n",
            " 3   RACEALLP_A    27651 non-null  int64  \n",
            " 4   SEX_A         27651 non-null  int64  \n",
            " 5   EDUCP_A       27651 non-null  int64  \n",
            " 6   BMICAT_A      27651 non-null  int64  \n",
            " 7   PHSTAT_A      27651 non-null  int64  \n",
            " 8   HYPEV_A       27651 non-null  int64  \n",
            " 9   CHLEV_A       27651 non-null  int64  \n",
            " 10  STREV_A       27651 non-null  int64  \n",
            " 11  MIEV_A        27651 non-null  int64  \n",
            " 12  CHDEV_A       27651 non-null  int64  \n",
            " 13  COPDEV_A      27651 non-null  int64  \n",
            " 14  LASTDR_A      27651 non-null  int64  \n",
            " 15  URGNT12MTC_A  27651 non-null  int64  \n",
            " 16  EMERG12MTC_A  27651 non-null  int64  \n",
            " 17  HOSPONGT_A    27651 non-null  int64  \n",
            " 18  RX12M_A       27651 non-null  int64  \n",
            " 19  MODFREQW_A    27651 non-null  int64  \n",
            " 20  EQUIP_A       27651 non-null  int64  \n",
            " 21  SMKEV_A       27651 non-null  int64  \n",
            " 22  DRKLIFE_A     27651 non-null  int64  \n",
            " 23  SODATP_A      27651 non-null  int64  \n",
            " 24  SPORDRTP_A    27651 non-null  int64  \n",
            " 25  FRTDRTP_A     27651 non-null  int64  \n",
            " 26  FRUITTP_A     27651 non-null  int64  \n",
            " 27  SALADTP_A     27651 non-null  int64  \n",
            " 28  SLPHOURS_A    27651 non-null  int64  \n",
            "dtypes: float64(1), int64(28)\n",
            "memory usage: 6.1 MB\n"
          ]
        }
      ]
    },
    {
      "cell_type": "markdown",
      "source": [
        "# 3. Preprocess Output Variables"
      ],
      "metadata": {
        "id": "pou5GY5jaJdL"
      }
    },
    {
      "cell_type": "markdown",
      "source": [
        "For output variables: If a person has diabetes only during pregnancy, I will consider them as No diabetes."
      ],
      "metadata": {
        "id": "fh_ZywcDg3oo"
      }
    },
    {
      "cell_type": "code",
      "source": [
        "# Output variables: If people answer Yes (1) in GESDIB_A column (pregnancy diabetes),\n",
        "# change value in DIBEV_A to No (2)\n",
        "df.loc[df['GESDIB_A'] == 1, 'DIBEV_A'] = 2"
      ],
      "metadata": {
        "id": "cTF0iSIAEazJ"
      },
      "execution_count": null,
      "outputs": []
    },
    {
      "cell_type": "code",
      "source": [
        "# drop GESDIB_A column\n",
        "df.drop(columns=['GESDIB_A'],inplace=True)"
      ],
      "metadata": {
        "id": "q32tIlg2hGJy"
      },
      "execution_count": null,
      "outputs": []
    },
    {
      "cell_type": "code",
      "source": [
        "# Only include people who answer (Yes or No)\n",
        "df = df[(df['DIBEV_A']==1) | (df['DIBEV_A']==2)]"
      ],
      "metadata": {
        "id": "CFjr3ZPzg70O"
      },
      "execution_count": null,
      "outputs": []
    },
    {
      "cell_type": "code",
      "source": [
        "# Change output variables name\n",
        "df.rename(columns={'DIBEV_A':'Diabetes'},inplace=True)"
      ],
      "metadata": {
        "id": "dzIbOwBzFNXk",
        "colab": {
          "base_uri": "https://localhost:8080/"
        },
        "outputId": "9567e343-5f09-4466-f42d-b99faee722b9"
      },
      "execution_count": null,
      "outputs": [
        {
          "output_type": "stream",
          "name": "stderr",
          "text": [
            "<ipython-input-9-de1da51b9bd0>:2: SettingWithCopyWarning: \n",
            "A value is trying to be set on a copy of a slice from a DataFrame\n",
            "\n",
            "See the caveats in the documentation: https://pandas.pydata.org/pandas-docs/stable/user_guide/indexing.html#returning-a-view-versus-a-copy\n",
            "  df.rename(columns={'DIBEV_A':'Diabetes'},inplace=True)\n"
          ]
        }
      ]
    },
    {
      "cell_type": "code",
      "source": [
        "# Change value to 0 = No, 1 = Yes\n",
        "df.loc[df['Diabetes']==2,'Diabetes'] = 0"
      ],
      "metadata": {
        "id": "PtBRxUYY27ha",
        "colab": {
          "base_uri": "https://localhost:8080/"
        },
        "outputId": "d2062cb6-606d-4ceb-f61c-67888997f877"
      },
      "execution_count": null,
      "outputs": [
        {
          "output_type": "stream",
          "name": "stderr",
          "text": [
            "<ipython-input-10-93f8654124bc>:2: SettingWithCopyWarning: \n",
            "A value is trying to be set on a copy of a slice from a DataFrame\n",
            "\n",
            "See the caveats in the documentation: https://pandas.pydata.org/pandas-docs/stable/user_guide/indexing.html#returning-a-view-versus-a-copy\n",
            "  df.loc[df['Diabetes']==2,'Diabetes'] = 0\n"
          ]
        }
      ]
    },
    {
      "cell_type": "code",
      "source": [
        "df.info()"
      ],
      "metadata": {
        "colab": {
          "base_uri": "https://localhost:8080/"
        },
        "id": "lUMF_z5cASNm",
        "outputId": "9d3f0f3c-399d-4c10-df83-970c6a0b461a"
      },
      "execution_count": null,
      "outputs": [
        {
          "output_type": "stream",
          "name": "stdout",
          "text": [
            "<class 'pandas.core.frame.DataFrame'>\n",
            "Int64Index: 27620 entries, 0 to 27650\n",
            "Data columns (total 28 columns):\n",
            " #   Column        Non-Null Count  Dtype\n",
            "---  ------        --------------  -----\n",
            " 0   Diabetes      27620 non-null  int64\n",
            " 1   AGEP_A        27620 non-null  int64\n",
            " 2   RACEALLP_A    27620 non-null  int64\n",
            " 3   SEX_A         27620 non-null  int64\n",
            " 4   EDUCP_A       27620 non-null  int64\n",
            " 5   BMICAT_A      27620 non-null  int64\n",
            " 6   PHSTAT_A      27620 non-null  int64\n",
            " 7   HYPEV_A       27620 non-null  int64\n",
            " 8   CHLEV_A       27620 non-null  int64\n",
            " 9   STREV_A       27620 non-null  int64\n",
            " 10  MIEV_A        27620 non-null  int64\n",
            " 11  CHDEV_A       27620 non-null  int64\n",
            " 12  COPDEV_A      27620 non-null  int64\n",
            " 13  LASTDR_A      27620 non-null  int64\n",
            " 14  URGNT12MTC_A  27620 non-null  int64\n",
            " 15  EMERG12MTC_A  27620 non-null  int64\n",
            " 16  HOSPONGT_A    27620 non-null  int64\n",
            " 17  RX12M_A       27620 non-null  int64\n",
            " 18  MODFREQW_A    27620 non-null  int64\n",
            " 19  EQUIP_A       27620 non-null  int64\n",
            " 20  SMKEV_A       27620 non-null  int64\n",
            " 21  DRKLIFE_A     27620 non-null  int64\n",
            " 22  SODATP_A      27620 non-null  int64\n",
            " 23  SPORDRTP_A    27620 non-null  int64\n",
            " 24  FRTDRTP_A     27620 non-null  int64\n",
            " 25  FRUITTP_A     27620 non-null  int64\n",
            " 26  SALADTP_A     27620 non-null  int64\n",
            " 27  SLPHOURS_A    27620 non-null  int64\n",
            "dtypes: int64(28)\n",
            "memory usage: 6.1 MB\n"
          ]
        }
      ]
    },
    {
      "cell_type": "code",
      "source": [
        "# check missing values\n",
        "df.isna().sum()"
      ],
      "metadata": {
        "colab": {
          "base_uri": "https://localhost:8080/"
        },
        "id": "mVe-k-HXeUP2",
        "outputId": "e920fd36-c4e4-4b14-e8a5-1a2c37ee249a"
      },
      "execution_count": null,
      "outputs": [
        {
          "output_type": "execute_result",
          "data": {
            "text/plain": [
              "Diabetes        0\n",
              "AGEP_A          0\n",
              "RACEALLP_A      0\n",
              "SEX_A           0\n",
              "EDUCP_A         0\n",
              "BMICAT_A        0\n",
              "PHSTAT_A        0\n",
              "HYPEV_A         0\n",
              "CHLEV_A         0\n",
              "STREV_A         0\n",
              "MIEV_A          0\n",
              "CHDEV_A         0\n",
              "COPDEV_A        0\n",
              "LASTDR_A        0\n",
              "URGNT12MTC_A    0\n",
              "EMERG12MTC_A    0\n",
              "HOSPONGT_A      0\n",
              "RX12M_A         0\n",
              "MODFREQW_A      0\n",
              "EQUIP_A         0\n",
              "SMKEV_A         0\n",
              "DRKLIFE_A       0\n",
              "SODATP_A        0\n",
              "SPORDRTP_A      0\n",
              "FRTDRTP_A       0\n",
              "FRUITTP_A       0\n",
              "SALADTP_A       0\n",
              "SLPHOURS_A      0\n",
              "dtype: int64"
            ]
          },
          "metadata": {},
          "execution_count": 12
        }
      ]
    },
    {
      "cell_type": "markdown",
      "source": [
        "# 4. Input Variables\n",
        "We have a total of 31 input variables, mostly categorical values."
      ],
      "metadata": {
        "id": "_gU1MkOKi5S1"
      }
    },
    {
      "cell_type": "markdown",
      "source": [
        "## 4.1 Socio-demographic\n",
        "Socio-demographic variables contain: Age, Race, Sex, Education level, BMI group.\n",
        "\n",
        "Age is numerical.\n",
        "Sex, Education level, BMI group are categorical."
      ],
      "metadata": {
        "id": "_Qu91wJSjGIk"
      }
    },
    {
      "cell_type": "markdown",
      "source": [
        "### 4.1.1 Age\n",
        "- Exclude those who do not disclose their age\n",
        "- Change dtype from continuous to categorical (age group)"
      ],
      "metadata": {
        "id": "a5d3Z6el5aqT"
      }
    },
    {
      "cell_type": "code",
      "source": [
        "# exclude those who do not disclose\n",
        "df = df[df['AGEP_A']<86]"
      ],
      "metadata": {
        "id": "n-5ZMuLd5aWv"
      },
      "execution_count": null,
      "outputs": []
    },
    {
      "cell_type": "code",
      "source": [
        "# Age: change from continuous to age group\n",
        "\n",
        "def age_to_group(age):\n",
        "    if age >= 18 and age <= 24:\n",
        "        return 1\n",
        "    elif age >= 25 and age <= 34:\n",
        "        return 2\n",
        "    elif age >= 35 and age <= 44:\n",
        "        return 3\n",
        "    elif age >= 45 and age <= 54:\n",
        "        return 4\n",
        "    elif age >= 55 and age <= 64:\n",
        "        return 5\n",
        "    else:\n",
        "        return 6\n",
        "\n",
        "# Apply the function to create the 'Age Group' column\n",
        "df['Age_Group'] = df['AGEP_A'].apply(age_to_group)\n",
        "\n",
        "# Drop the original col\n",
        "df.drop(columns=['AGEP_A'])"
      ],
      "metadata": {
        "colab": {
          "base_uri": "https://localhost:8080/",
          "height": 444
        },
        "id": "ej9RNXeqjBd5",
        "outputId": "94b45ba2-2f72-4833-a83d-833d014c00db"
      },
      "execution_count": null,
      "outputs": [
        {
          "output_type": "execute_result",
          "data": {
            "text/plain": [
              "       Diabetes  RACEALLP_A  SEX_A  EDUCP_A  BMICAT_A  PHSTAT_A  HYPEV_A  \\\n",
              "0             0           1      1        4         2         2        1   \n",
              "1             0           1      1        8         4         3        1   \n",
              "2             1           1      2        8         4         3        2   \n",
              "3             0           1      2        5         4         2        1   \n",
              "4             0           2      2        6         3         2        1   \n",
              "...         ...         ...    ...      ...       ...       ...      ...   \n",
              "27646         0           1      1        4         3         3        2   \n",
              "27647         0           1      2        8         2         2        2   \n",
              "27648         0           1      2        7         2         1        2   \n",
              "27649         0           1      1        7         4         2        2   \n",
              "27650         0           1      1        9         3         2        2   \n",
              "\n",
              "       CHLEV_A  STREV_A  MIEV_A  ...  EQUIP_A  SMKEV_A  DRKLIFE_A  SODATP_A  \\\n",
              "0            2        2       2  ...        2        1          1         2   \n",
              "1            1        2       2  ...        2        1          1         2   \n",
              "2            2        2       2  ...        2        2          1         0   \n",
              "3            2        2       2  ...        2        2          1         0   \n",
              "4            2        2       2  ...        1        2          1         1   \n",
              "...        ...      ...     ...  ...      ...      ...        ...       ...   \n",
              "27646        2        2       2  ...        2        1          2         0   \n",
              "27647        1        2       2  ...        2        2          2         0   \n",
              "27648        1        2       2  ...        2        2          1         3   \n",
              "27649        1        2       2  ...        2        1          1         1   \n",
              "27650        1        2       2  ...        2        2          2         1   \n",
              "\n",
              "       SPORDRTP_A  FRTDRTP_A  FRUITTP_A  SALADTP_A  SLPHOURS_A  Age_Group  \n",
              "0               0          2          3          3           8          6  \n",
              "1               2          0          3          2           8          5  \n",
              "2               0          0          2          2           9          3  \n",
              "3               0          2          0          2           8          6  \n",
              "4               0          3          2          3           8          6  \n",
              "...           ...        ...        ...        ...         ...        ...  \n",
              "27646           0          0          2          2           7          5  \n",
              "27647           0          0          1          1           8          6  \n",
              "27648           0          0          3          2           7          6  \n",
              "27649           3          1          1          2           6          2  \n",
              "27650           3          0          1          3           7          4  \n",
              "\n",
              "[27559 rows x 28 columns]"
            ],
            "text/html": [
              "\n",
              "  <div id=\"df-d9150d43-c81e-4f44-9c99-4db03169e659\" class=\"colab-df-container\">\n",
              "    <div>\n",
              "<style scoped>\n",
              "    .dataframe tbody tr th:only-of-type {\n",
              "        vertical-align: middle;\n",
              "    }\n",
              "\n",
              "    .dataframe tbody tr th {\n",
              "        vertical-align: top;\n",
              "    }\n",
              "\n",
              "    .dataframe thead th {\n",
              "        text-align: right;\n",
              "    }\n",
              "</style>\n",
              "<table border=\"1\" class=\"dataframe\">\n",
              "  <thead>\n",
              "    <tr style=\"text-align: right;\">\n",
              "      <th></th>\n",
              "      <th>Diabetes</th>\n",
              "      <th>RACEALLP_A</th>\n",
              "      <th>SEX_A</th>\n",
              "      <th>EDUCP_A</th>\n",
              "      <th>BMICAT_A</th>\n",
              "      <th>PHSTAT_A</th>\n",
              "      <th>HYPEV_A</th>\n",
              "      <th>CHLEV_A</th>\n",
              "      <th>STREV_A</th>\n",
              "      <th>MIEV_A</th>\n",
              "      <th>...</th>\n",
              "      <th>EQUIP_A</th>\n",
              "      <th>SMKEV_A</th>\n",
              "      <th>DRKLIFE_A</th>\n",
              "      <th>SODATP_A</th>\n",
              "      <th>SPORDRTP_A</th>\n",
              "      <th>FRTDRTP_A</th>\n",
              "      <th>FRUITTP_A</th>\n",
              "      <th>SALADTP_A</th>\n",
              "      <th>SLPHOURS_A</th>\n",
              "      <th>Age_Group</th>\n",
              "    </tr>\n",
              "  </thead>\n",
              "  <tbody>\n",
              "    <tr>\n",
              "      <th>0</th>\n",
              "      <td>0</td>\n",
              "      <td>1</td>\n",
              "      <td>1</td>\n",
              "      <td>4</td>\n",
              "      <td>2</td>\n",
              "      <td>2</td>\n",
              "      <td>1</td>\n",
              "      <td>2</td>\n",
              "      <td>2</td>\n",
              "      <td>2</td>\n",
              "      <td>...</td>\n",
              "      <td>2</td>\n",
              "      <td>1</td>\n",
              "      <td>1</td>\n",
              "      <td>2</td>\n",
              "      <td>0</td>\n",
              "      <td>2</td>\n",
              "      <td>3</td>\n",
              "      <td>3</td>\n",
              "      <td>8</td>\n",
              "      <td>6</td>\n",
              "    </tr>\n",
              "    <tr>\n",
              "      <th>1</th>\n",
              "      <td>0</td>\n",
              "      <td>1</td>\n",
              "      <td>1</td>\n",
              "      <td>8</td>\n",
              "      <td>4</td>\n",
              "      <td>3</td>\n",
              "      <td>1</td>\n",
              "      <td>1</td>\n",
              "      <td>2</td>\n",
              "      <td>2</td>\n",
              "      <td>...</td>\n",
              "      <td>2</td>\n",
              "      <td>1</td>\n",
              "      <td>1</td>\n",
              "      <td>2</td>\n",
              "      <td>2</td>\n",
              "      <td>0</td>\n",
              "      <td>3</td>\n",
              "      <td>2</td>\n",
              "      <td>8</td>\n",
              "      <td>5</td>\n",
              "    </tr>\n",
              "    <tr>\n",
              "      <th>2</th>\n",
              "      <td>1</td>\n",
              "      <td>1</td>\n",
              "      <td>2</td>\n",
              "      <td>8</td>\n",
              "      <td>4</td>\n",
              "      <td>3</td>\n",
              "      <td>2</td>\n",
              "      <td>2</td>\n",
              "      <td>2</td>\n",
              "      <td>2</td>\n",
              "      <td>...</td>\n",
              "      <td>2</td>\n",
              "      <td>2</td>\n",
              "      <td>1</td>\n",
              "      <td>0</td>\n",
              "      <td>0</td>\n",
              "      <td>0</td>\n",
              "      <td>2</td>\n",
              "      <td>2</td>\n",
              "      <td>9</td>\n",
              "      <td>3</td>\n",
              "    </tr>\n",
              "    <tr>\n",
              "      <th>3</th>\n",
              "      <td>0</td>\n",
              "      <td>1</td>\n",
              "      <td>2</td>\n",
              "      <td>5</td>\n",
              "      <td>4</td>\n",
              "      <td>2</td>\n",
              "      <td>1</td>\n",
              "      <td>2</td>\n",
              "      <td>2</td>\n",
              "      <td>2</td>\n",
              "      <td>...</td>\n",
              "      <td>2</td>\n",
              "      <td>2</td>\n",
              "      <td>1</td>\n",
              "      <td>0</td>\n",
              "      <td>0</td>\n",
              "      <td>2</td>\n",
              "      <td>0</td>\n",
              "      <td>2</td>\n",
              "      <td>8</td>\n",
              "      <td>6</td>\n",
              "    </tr>\n",
              "    <tr>\n",
              "      <th>4</th>\n",
              "      <td>0</td>\n",
              "      <td>2</td>\n",
              "      <td>2</td>\n",
              "      <td>6</td>\n",
              "      <td>3</td>\n",
              "      <td>2</td>\n",
              "      <td>1</td>\n",
              "      <td>2</td>\n",
              "      <td>2</td>\n",
              "      <td>2</td>\n",
              "      <td>...</td>\n",
              "      <td>1</td>\n",
              "      <td>2</td>\n",
              "      <td>1</td>\n",
              "      <td>1</td>\n",
              "      <td>0</td>\n",
              "      <td>3</td>\n",
              "      <td>2</td>\n",
              "      <td>3</td>\n",
              "      <td>8</td>\n",
              "      <td>6</td>\n",
              "    </tr>\n",
              "    <tr>\n",
              "      <th>...</th>\n",
              "      <td>...</td>\n",
              "      <td>...</td>\n",
              "      <td>...</td>\n",
              "      <td>...</td>\n",
              "      <td>...</td>\n",
              "      <td>...</td>\n",
              "      <td>...</td>\n",
              "      <td>...</td>\n",
              "      <td>...</td>\n",
              "      <td>...</td>\n",
              "      <td>...</td>\n",
              "      <td>...</td>\n",
              "      <td>...</td>\n",
              "      <td>...</td>\n",
              "      <td>...</td>\n",
              "      <td>...</td>\n",
              "      <td>...</td>\n",
              "      <td>...</td>\n",
              "      <td>...</td>\n",
              "      <td>...</td>\n",
              "      <td>...</td>\n",
              "    </tr>\n",
              "    <tr>\n",
              "      <th>27646</th>\n",
              "      <td>0</td>\n",
              "      <td>1</td>\n",
              "      <td>1</td>\n",
              "      <td>4</td>\n",
              "      <td>3</td>\n",
              "      <td>3</td>\n",
              "      <td>2</td>\n",
              "      <td>2</td>\n",
              "      <td>2</td>\n",
              "      <td>2</td>\n",
              "      <td>...</td>\n",
              "      <td>2</td>\n",
              "      <td>1</td>\n",
              "      <td>2</td>\n",
              "      <td>0</td>\n",
              "      <td>0</td>\n",
              "      <td>0</td>\n",
              "      <td>2</td>\n",
              "      <td>2</td>\n",
              "      <td>7</td>\n",
              "      <td>5</td>\n",
              "    </tr>\n",
              "    <tr>\n",
              "      <th>27647</th>\n",
              "      <td>0</td>\n",
              "      <td>1</td>\n",
              "      <td>2</td>\n",
              "      <td>8</td>\n",
              "      <td>2</td>\n",
              "      <td>2</td>\n",
              "      <td>2</td>\n",
              "      <td>1</td>\n",
              "      <td>2</td>\n",
              "      <td>2</td>\n",
              "      <td>...</td>\n",
              "      <td>2</td>\n",
              "      <td>2</td>\n",
              "      <td>2</td>\n",
              "      <td>0</td>\n",
              "      <td>0</td>\n",
              "      <td>0</td>\n",
              "      <td>1</td>\n",
              "      <td>1</td>\n",
              "      <td>8</td>\n",
              "      <td>6</td>\n",
              "    </tr>\n",
              "    <tr>\n",
              "      <th>27648</th>\n",
              "      <td>0</td>\n",
              "      <td>1</td>\n",
              "      <td>2</td>\n",
              "      <td>7</td>\n",
              "      <td>2</td>\n",
              "      <td>1</td>\n",
              "      <td>2</td>\n",
              "      <td>1</td>\n",
              "      <td>2</td>\n",
              "      <td>2</td>\n",
              "      <td>...</td>\n",
              "      <td>2</td>\n",
              "      <td>2</td>\n",
              "      <td>1</td>\n",
              "      <td>3</td>\n",
              "      <td>0</td>\n",
              "      <td>0</td>\n",
              "      <td>3</td>\n",
              "      <td>2</td>\n",
              "      <td>7</td>\n",
              "      <td>6</td>\n",
              "    </tr>\n",
              "    <tr>\n",
              "      <th>27649</th>\n",
              "      <td>0</td>\n",
              "      <td>1</td>\n",
              "      <td>1</td>\n",
              "      <td>7</td>\n",
              "      <td>4</td>\n",
              "      <td>2</td>\n",
              "      <td>2</td>\n",
              "      <td>1</td>\n",
              "      <td>2</td>\n",
              "      <td>2</td>\n",
              "      <td>...</td>\n",
              "      <td>2</td>\n",
              "      <td>1</td>\n",
              "      <td>1</td>\n",
              "      <td>1</td>\n",
              "      <td>3</td>\n",
              "      <td>1</td>\n",
              "      <td>1</td>\n",
              "      <td>2</td>\n",
              "      <td>6</td>\n",
              "      <td>2</td>\n",
              "    </tr>\n",
              "    <tr>\n",
              "      <th>27650</th>\n",
              "      <td>0</td>\n",
              "      <td>1</td>\n",
              "      <td>1</td>\n",
              "      <td>9</td>\n",
              "      <td>3</td>\n",
              "      <td>2</td>\n",
              "      <td>2</td>\n",
              "      <td>1</td>\n",
              "      <td>2</td>\n",
              "      <td>2</td>\n",
              "      <td>...</td>\n",
              "      <td>2</td>\n",
              "      <td>2</td>\n",
              "      <td>2</td>\n",
              "      <td>1</td>\n",
              "      <td>3</td>\n",
              "      <td>0</td>\n",
              "      <td>1</td>\n",
              "      <td>3</td>\n",
              "      <td>7</td>\n",
              "      <td>4</td>\n",
              "    </tr>\n",
              "  </tbody>\n",
              "</table>\n",
              "<p>27559 rows × 28 columns</p>\n",
              "</div>\n",
              "    <div class=\"colab-df-buttons\">\n",
              "\n",
              "  <div class=\"colab-df-container\">\n",
              "    <button class=\"colab-df-convert\" onclick=\"convertToInteractive('df-d9150d43-c81e-4f44-9c99-4db03169e659')\"\n",
              "            title=\"Convert this dataframe to an interactive table.\"\n",
              "            style=\"display:none;\">\n",
              "\n",
              "  <svg xmlns=\"http://www.w3.org/2000/svg\" height=\"24px\" viewBox=\"0 -960 960 960\">\n",
              "    <path d=\"M120-120v-720h720v720H120Zm60-500h600v-160H180v160Zm220 220h160v-160H400v160Zm0 220h160v-160H400v160ZM180-400h160v-160H180v160Zm440 0h160v-160H620v160ZM180-180h160v-160H180v160Zm440 0h160v-160H620v160Z\"/>\n",
              "  </svg>\n",
              "    </button>\n",
              "\n",
              "  <style>\n",
              "    .colab-df-container {\n",
              "      display:flex;\n",
              "      gap: 12px;\n",
              "    }\n",
              "\n",
              "    .colab-df-convert {\n",
              "      background-color: #E8F0FE;\n",
              "      border: none;\n",
              "      border-radius: 50%;\n",
              "      cursor: pointer;\n",
              "      display: none;\n",
              "      fill: #1967D2;\n",
              "      height: 32px;\n",
              "      padding: 0 0 0 0;\n",
              "      width: 32px;\n",
              "    }\n",
              "\n",
              "    .colab-df-convert:hover {\n",
              "      background-color: #E2EBFA;\n",
              "      box-shadow: 0px 1px 2px rgba(60, 64, 67, 0.3), 0px 1px 3px 1px rgba(60, 64, 67, 0.15);\n",
              "      fill: #174EA6;\n",
              "    }\n",
              "\n",
              "    .colab-df-buttons div {\n",
              "      margin-bottom: 4px;\n",
              "    }\n",
              "\n",
              "    [theme=dark] .colab-df-convert {\n",
              "      background-color: #3B4455;\n",
              "      fill: #D2E3FC;\n",
              "    }\n",
              "\n",
              "    [theme=dark] .colab-df-convert:hover {\n",
              "      background-color: #434B5C;\n",
              "      box-shadow: 0px 1px 3px 1px rgba(0, 0, 0, 0.15);\n",
              "      filter: drop-shadow(0px 1px 2px rgba(0, 0, 0, 0.3));\n",
              "      fill: #FFFFFF;\n",
              "    }\n",
              "  </style>\n",
              "\n",
              "    <script>\n",
              "      const buttonEl =\n",
              "        document.querySelector('#df-d9150d43-c81e-4f44-9c99-4db03169e659 button.colab-df-convert');\n",
              "      buttonEl.style.display =\n",
              "        google.colab.kernel.accessAllowed ? 'block' : 'none';\n",
              "\n",
              "      async function convertToInteractive(key) {\n",
              "        const element = document.querySelector('#df-d9150d43-c81e-4f44-9c99-4db03169e659');\n",
              "        const dataTable =\n",
              "          await google.colab.kernel.invokeFunction('convertToInteractive',\n",
              "                                                    [key], {});\n",
              "        if (!dataTable) return;\n",
              "\n",
              "        const docLinkHtml = 'Like what you see? Visit the ' +\n",
              "          '<a target=\"_blank\" href=https://colab.research.google.com/notebooks/data_table.ipynb>data table notebook</a>'\n",
              "          + ' to learn more about interactive tables.';\n",
              "        element.innerHTML = '';\n",
              "        dataTable['output_type'] = 'display_data';\n",
              "        await google.colab.output.renderOutput(dataTable, element);\n",
              "        const docLink = document.createElement('div');\n",
              "        docLink.innerHTML = docLinkHtml;\n",
              "        element.appendChild(docLink);\n",
              "      }\n",
              "    </script>\n",
              "  </div>\n",
              "\n",
              "\n",
              "<div id=\"df-cfac14db-5819-4c93-9279-c504e232a2de\">\n",
              "  <button class=\"colab-df-quickchart\" onclick=\"quickchart('df-cfac14db-5819-4c93-9279-c504e232a2de')\"\n",
              "            title=\"Suggest charts\"\n",
              "            style=\"display:none;\">\n",
              "\n",
              "<svg xmlns=\"http://www.w3.org/2000/svg\" height=\"24px\"viewBox=\"0 0 24 24\"\n",
              "     width=\"24px\">\n",
              "    <g>\n",
              "        <path d=\"M19 3H5c-1.1 0-2 .9-2 2v14c0 1.1.9 2 2 2h14c1.1 0 2-.9 2-2V5c0-1.1-.9-2-2-2zM9 17H7v-7h2v7zm4 0h-2V7h2v10zm4 0h-2v-4h2v4z\"/>\n",
              "    </g>\n",
              "</svg>\n",
              "  </button>\n",
              "\n",
              "<style>\n",
              "  .colab-df-quickchart {\n",
              "      --bg-color: #E8F0FE;\n",
              "      --fill-color: #1967D2;\n",
              "      --hover-bg-color: #E2EBFA;\n",
              "      --hover-fill-color: #174EA6;\n",
              "      --disabled-fill-color: #AAA;\n",
              "      --disabled-bg-color: #DDD;\n",
              "  }\n",
              "\n",
              "  [theme=dark] .colab-df-quickchart {\n",
              "      --bg-color: #3B4455;\n",
              "      --fill-color: #D2E3FC;\n",
              "      --hover-bg-color: #434B5C;\n",
              "      --hover-fill-color: #FFFFFF;\n",
              "      --disabled-bg-color: #3B4455;\n",
              "      --disabled-fill-color: #666;\n",
              "  }\n",
              "\n",
              "  .colab-df-quickchart {\n",
              "    background-color: var(--bg-color);\n",
              "    border: none;\n",
              "    border-radius: 50%;\n",
              "    cursor: pointer;\n",
              "    display: none;\n",
              "    fill: var(--fill-color);\n",
              "    height: 32px;\n",
              "    padding: 0;\n",
              "    width: 32px;\n",
              "  }\n",
              "\n",
              "  .colab-df-quickchart:hover {\n",
              "    background-color: var(--hover-bg-color);\n",
              "    box-shadow: 0 1px 2px rgba(60, 64, 67, 0.3), 0 1px 3px 1px rgba(60, 64, 67, 0.15);\n",
              "    fill: var(--button-hover-fill-color);\n",
              "  }\n",
              "\n",
              "  .colab-df-quickchart-complete:disabled,\n",
              "  .colab-df-quickchart-complete:disabled:hover {\n",
              "    background-color: var(--disabled-bg-color);\n",
              "    fill: var(--disabled-fill-color);\n",
              "    box-shadow: none;\n",
              "  }\n",
              "\n",
              "  .colab-df-spinner {\n",
              "    border: 2px solid var(--fill-color);\n",
              "    border-color: transparent;\n",
              "    border-bottom-color: var(--fill-color);\n",
              "    animation:\n",
              "      spin 1s steps(1) infinite;\n",
              "  }\n",
              "\n",
              "  @keyframes spin {\n",
              "    0% {\n",
              "      border-color: transparent;\n",
              "      border-bottom-color: var(--fill-color);\n",
              "      border-left-color: var(--fill-color);\n",
              "    }\n",
              "    20% {\n",
              "      border-color: transparent;\n",
              "      border-left-color: var(--fill-color);\n",
              "      border-top-color: var(--fill-color);\n",
              "    }\n",
              "    30% {\n",
              "      border-color: transparent;\n",
              "      border-left-color: var(--fill-color);\n",
              "      border-top-color: var(--fill-color);\n",
              "      border-right-color: var(--fill-color);\n",
              "    }\n",
              "    40% {\n",
              "      border-color: transparent;\n",
              "      border-right-color: var(--fill-color);\n",
              "      border-top-color: var(--fill-color);\n",
              "    }\n",
              "    60% {\n",
              "      border-color: transparent;\n",
              "      border-right-color: var(--fill-color);\n",
              "    }\n",
              "    80% {\n",
              "      border-color: transparent;\n",
              "      border-right-color: var(--fill-color);\n",
              "      border-bottom-color: var(--fill-color);\n",
              "    }\n",
              "    90% {\n",
              "      border-color: transparent;\n",
              "      border-bottom-color: var(--fill-color);\n",
              "    }\n",
              "  }\n",
              "</style>\n",
              "\n",
              "  <script>\n",
              "    async function quickchart(key) {\n",
              "      const quickchartButtonEl =\n",
              "        document.querySelector('#' + key + ' button');\n",
              "      quickchartButtonEl.disabled = true;  // To prevent multiple clicks.\n",
              "      quickchartButtonEl.classList.add('colab-df-spinner');\n",
              "      try {\n",
              "        const charts = await google.colab.kernel.invokeFunction(\n",
              "            'suggestCharts', [key], {});\n",
              "      } catch (error) {\n",
              "        console.error('Error during call to suggestCharts:', error);\n",
              "      }\n",
              "      quickchartButtonEl.classList.remove('colab-df-spinner');\n",
              "      quickchartButtonEl.classList.add('colab-df-quickchart-complete');\n",
              "    }\n",
              "    (() => {\n",
              "      let quickchartButtonEl =\n",
              "        document.querySelector('#df-cfac14db-5819-4c93-9279-c504e232a2de button');\n",
              "      quickchartButtonEl.style.display =\n",
              "        google.colab.kernel.accessAllowed ? 'block' : 'none';\n",
              "    })();\n",
              "  </script>\n",
              "</div>\n",
              "    </div>\n",
              "  </div>\n"
            ]
          },
          "metadata": {},
          "execution_count": 16
        }
      ]
    },
    {
      "cell_type": "code",
      "source": [
        "# relationship between Age and Diabetes\n",
        "import matplotlib.pyplot as plt\n",
        "import seaborn as sns\n",
        "\n",
        "cross_tab = pd.crosstab(df['Age_Group'], df['Diabetes'])\n",
        "\n",
        "# Display the cross-tabulation\n",
        "print(cross_tab)\n",
        "\n",
        "# Plot a heatmap to visualize the relationship\n",
        "sns.heatmap(cross_tab, annot=True, fmt='d', cmap='Blues')\n",
        "plt.title('Relationship between Age Group and Diabetes')\n",
        "plt.xlabel('Diabetes')\n",
        "plt.ylabel('Age Group')\n",
        "plt.show()"
      ],
      "metadata": {
        "colab": {
          "base_uri": "https://localhost:8080/",
          "height": 611
        },
        "id": "H3A2UluWlKlo",
        "outputId": "d2e8e947-507f-4452-a8ff-3574a99ff97b"
      },
      "execution_count": null,
      "outputs": [
        {
          "output_type": "stream",
          "name": "stdout",
          "text": [
            "Diabetes      0     1\n",
            "Age_Group            \n",
            "1          1717    15\n",
            "2          3965    49\n",
            "3          4141   141\n",
            "4          3539   304\n",
            "5          4269   661\n",
            "6          7214  1544\n"
          ]
        },
        {
          "output_type": "display_data",
          "data": {
            "text/plain": [
              "<Figure size 640x480 with 2 Axes>"
            ],
            "image/png": "[encoded data removed]"
          },
          "metadata": {}
        }
      ]
    },
    {
      "cell_type": "code",
      "source": [
        "percentage_diabetes = df.groupby('Age_Group')['Diabetes'].apply(lambda x: (x == 1).sum() / len(x) * 100)\n",
        "\n",
        "# Display the result\n",
        "for age_group, percentage in percentage_diabetes.items():\n",
        "    print(f\"Percentage of people having diabetes in Age Group {age_group} is {percentage:.2f}%\")"
      ],
      "metadata": {
        "colab": {
          "base_uri": "https://localhost:8080/"
        },
        "id": "_8CoUmiA6rm3",
        "outputId": "794f9b58-2187-424e-e05d-453bd358c9d6"
      },
      "execution_count": null,
      "outputs": [
        {
          "output_type": "stream",
          "name": "stdout",
          "text": [
            "Percentage of people having diabetes in Age Group 1 is 0.87%\n",
            "Percentage of people having diabetes in Age Group 2 is 1.22%\n",
            "Percentage of people having diabetes in Age Group 3 is 3.29%\n",
            "Percentage of people having diabetes in Age Group 4 is 7.91%\n",
            "Percentage of people having diabetes in Age Group 5 is 13.41%\n",
            "Percentage of people having diabetes in Age Group 6 is 17.63%\n"
          ]
        }
      ]
    },
    {
      "cell_type": "markdown",
      "source": [
        "There is a correlation between age group and diabetes risks. Older age group has higher diabetes rate. Therefore, I will keep the numerical variables."
      ],
      "metadata": {
        "id": "-QsJnw7C8pHR"
      }
    },
    {
      "cell_type": "markdown",
      "source": [
        "### 4.1.2 Race\n"
      ],
      "metadata": {
        "id": "OeuGLL429QPs"
      }
    },
    {
      "cell_type": "code",
      "source": [
        "# This is a categorical variable -> use OneHotEncoding\n",
        "\n",
        "one_hot_encoded = pd.get_dummies(df['RACEALLP_A'], prefix='Race')\n",
        "\n",
        "# Concatenate the one-hot encoded columns with the original DataFrame\n",
        "df = pd.concat([df, one_hot_encoded], axis=1)"
      ],
      "metadata": {
        "id": "mr4reDqn-KTN"
      },
      "execution_count": null,
      "outputs": []
    },
    {
      "cell_type": "code",
      "source": [
        "df.info()"
      ],
      "metadata": {
        "colab": {
          "base_uri": "https://localhost:8080/"
        },
        "id": "f8tHfrVo_SFA",
        "outputId": "ee983607-93e3-4a7f-a309-d608b777b4d9"
      },
      "execution_count": null,
      "outputs": [
        {
          "output_type": "stream",
          "name": "stdout",
          "text": [
            "<class 'pandas.core.frame.DataFrame'>\n",
            "Int64Index: 27559 entries, 0 to 27650\n",
            "Data columns (total 38 columns):\n",
            " #   Column        Non-Null Count  Dtype\n",
            "---  ------        --------------  -----\n",
            " 0   Diabetes      27559 non-null  int64\n",
            " 1   AGEP_A        27559 non-null  int64\n",
            " 2   RACEALLP_A    27559 non-null  int64\n",
            " 3   SEX_A         27559 non-null  int64\n",
            " 4   EDUCP_A       27559 non-null  int64\n",
            " 5   BMICAT_A      27559 non-null  int64\n",
            " 6   PHSTAT_A      27559 non-null  int64\n",
            " 7   HYPEV_A       27559 non-null  int64\n",
            " 8   CHLEV_A       27559 non-null  int64\n",
            " 9   STREV_A       27559 non-null  int64\n",
            " 10  MIEV_A        27559 non-null  int64\n",
            " 11  CHDEV_A       27559 non-null  int64\n",
            " 12  COPDEV_A      27559 non-null  int64\n",
            " 13  LASTDR_A      27559 non-null  int64\n",
            " 14  URGNT12MTC_A  27559 non-null  int64\n",
            " 15  EMERG12MTC_A  27559 non-null  int64\n",
            " 16  HOSPONGT_A    27559 non-null  int64\n",
            " 17  RX12M_A       27559 non-null  int64\n",
            " 18  MODFREQW_A    27559 non-null  int64\n",
            " 19  EQUIP_A       27559 non-null  int64\n",
            " 20  SMKEV_A       27559 non-null  int64\n",
            " 21  DRKLIFE_A     27559 non-null  int64\n",
            " 22  SODATP_A      27559 non-null  int64\n",
            " 23  SPORDRTP_A    27559 non-null  int64\n",
            " 24  FRTDRTP_A     27559 non-null  int64\n",
            " 25  FRUITTP_A     27559 non-null  int64\n",
            " 26  SALADTP_A     27559 non-null  int64\n",
            " 27  SLPHOURS_A    27559 non-null  int64\n",
            " 28  Age_Group     27559 non-null  int64\n",
            " 29  Race_1        27559 non-null  uint8\n",
            " 30  Race_2        27559 non-null  uint8\n",
            " 31  Race_3        27559 non-null  uint8\n",
            " 32  Race_4        27559 non-null  uint8\n",
            " 33  Race_5        27559 non-null  uint8\n",
            " 34  Race_6        27559 non-null  uint8\n",
            " 35  Race_7        27559 non-null  uint8\n",
            " 36  Race_8        27559 non-null  uint8\n",
            " 37  Race_9        27559 non-null  uint8\n",
            "dtypes: int64(29), uint8(9)\n",
            "memory usage: 6.5 MB\n"
          ]
        }
      ]
    },
    {
      "cell_type": "code",
      "source": [
        "# change column name\n",
        "df.rename(columns={'Race_1':'Race_White','Race_2':'Race_Black','Race_3':'Race_Asian','Race_4':'Race_AIAN','Race_5':'Race_Mixed','Race_6':'Race_Others'},inplace=True)\n",
        "\n",
        "# drop original Race column & race 7 8 9 (refuse to answer, unknown, ...)\n",
        "df.drop(columns=['RACEALLP_A','Race_7','Race_8','Race_9'],inplace=True)"
      ],
      "metadata": {
        "id": "Y-mVSmki_H-u"
      },
      "execution_count": null,
      "outputs": []
    },
    {
      "cell_type": "markdown",
      "source": [
        "### 4.1.3 Gender\n"
      ],
      "metadata": {
        "id": "FPRLbphU_7gB"
      }
    },
    {
      "cell_type": "code",
      "source": [
        "# only include those disclosing their gender\n",
        "df = df[(df['SEX_A']==2) | (df['SEX_A']==1)]"
      ],
      "metadata": {
        "id": "kIv7Vx2sA6TS"
      },
      "execution_count": null,
      "outputs": []
    },
    {
      "cell_type": "code",
      "source": [
        "# change from 1 Male 2 Female to 1 Male 0 Female\n",
        "df.loc[df['SEX_A']==2,'SEX_A'] = 0"
      ],
      "metadata": {
        "id": "8U-Ey2WiACZA"
      },
      "execution_count": null,
      "outputs": []
    },
    {
      "cell_type": "code",
      "source": [
        "# OneHotEncode Gender\n",
        "one_hot_encoded = pd.get_dummies(df['SEX_A'], prefix='Sex')\n",
        "\n",
        "# Concatenate the one-hot encoded columns with the original DataFrame\n",
        "df = pd.concat([df, one_hot_encoded], axis=1)"
      ],
      "metadata": {
        "id": "FGBvrGIaAgSA"
      },
      "execution_count": null,
      "outputs": []
    },
    {
      "cell_type": "code",
      "source": [
        "# Change column name\n",
        "df.rename(columns={'Sex_0':'Female','Sex_1':'Male'},inplace=True)\n",
        "\n",
        "# Drop original Sex column\n",
        "df.drop(columns=['SEX_A'],inplace=True)"
      ],
      "metadata": {
        "id": "X1iFBpoaB95K"
      },
      "execution_count": null,
      "outputs": []
    },
    {
      "cell_type": "markdown",
      "source": [
        "### 4.1.4 Education"
      ],
      "metadata": {
        "id": "-cKKl_YmCYiR"
      }
    },
    {
      "cell_type": "code",
      "source": [
        "# Exclude those refuse to disclose information\n",
        "\n",
        "df = df[df['EDUCP_A']<11]"
      ],
      "metadata": {
        "id": "m1I09p0dCg5j"
      },
      "execution_count": null,
      "outputs": []
    },
    {
      "cell_type": "code",
      "source": [
        "# Education: originally has 11 groups. I reduce it to 2 groups: highschool and bachelor+\n",
        "\n",
        "def education_group(edu):\n",
        "    if edu >= 1 and edu <= 4:\n",
        "        return 0\n",
        "    else:\n",
        "        return 1\n",
        "\n",
        "# Apply the function to create the 'Education' column\n",
        "df['Education'] = df['EDUCP_A'].apply(education_group)"
      ],
      "metadata": {
        "id": "Q8QHIFehkZLg"
      },
      "execution_count": null,
      "outputs": []
    },
    {
      "cell_type": "code",
      "source": [
        "# change column name\n",
        "df.rename(columns={'EDUCP_A':'Education'},inplace=True)"
      ],
      "metadata": {
        "id": "GY8ohir8DpIh"
      },
      "execution_count": null,
      "outputs": []
    },
    {
      "cell_type": "markdown",
      "source": [
        "### 4.1.5 BMI"
      ],
      "metadata": {
        "id": "tJBfa7dYEOoJ"
      }
    },
    {
      "cell_type": "code",
      "source": [
        "# Exclude those unknown\n",
        "df = df[df['BMICAT_A']!=9]"
      ],
      "metadata": {
        "id": "_5RsZ782DvH3"
      },
      "execution_count": null,
      "outputs": []
    },
    {
      "cell_type": "code",
      "source": [
        "percentage_diabetes = df.groupby('BMICAT_A')['Diabetes'].apply(lambda x: (x == 1).sum() / len(x) * 100)\n",
        "\n",
        "# Display the result\n",
        "for group, percentage in percentage_diabetes.items():\n",
        "    print(f\"Percentage of people having diabetes in BMI Group {group} is {percentage:.2f}%\")"
      ],
      "metadata": {
        "colab": {
          "base_uri": "https://localhost:8080/"
        },
        "id": "6vYdFF8GEcXp",
        "outputId": "2b5bb51b-3292-412f-8d89-32631135ec2b"
      },
      "execution_count": null,
      "outputs": [
        {
          "output_type": "stream",
          "name": "stdout",
          "text": [
            "Percentage of people having diabetes in BMI Group 1 is 2.80%\n",
            "Percentage of people having diabetes in BMI Group 2 is 4.65%\n",
            "Percentage of people having diabetes in BMI Group 3 is 8.95%\n",
            "Percentage of people having diabetes in BMI Group 4 is 16.19%\n"
          ]
        }
      ]
    },
    {
      "cell_type": "markdown",
      "source": [
        "Since there is a correlation between BMI group and diabetes, I will keep it as it is."
      ],
      "metadata": {
        "id": "K1_7m-c0Elpu"
      }
    },
    {
      "cell_type": "code",
      "source": [
        "# change column name\n",
        "df.rename(columns={'BMICAT_A':'BMI'},inplace=True)"
      ],
      "metadata": {
        "id": "1TpBrSXRGQd1"
      },
      "execution_count": null,
      "outputs": []
    },
    {
      "cell_type": "markdown",
      "source": [
        "## 4.2 Physical Health"
      ],
      "metadata": {
        "id": "3vdz3WfeEsQx"
      }
    },
    {
      "cell_type": "markdown",
      "source": [
        "### 4.2.1 General Health"
      ],
      "metadata": {
        "id": "7DPOIC48E1sR"
      }
    },
    {
      "cell_type": "code",
      "source": [
        "# Exclude those unknown\n",
        "df = df[df['PHSTAT_A']<6]"
      ],
      "metadata": {
        "id": "dw2QpIWTEj4k"
      },
      "execution_count": null,
      "outputs": []
    },
    {
      "cell_type": "code",
      "source": [
        "percentage_diabetes = df.groupby('PHSTAT_A')['Diabetes'].apply(lambda x: (x == 1).sum() / len(x) * 100)\n",
        "\n",
        "# Display the result\n",
        "for group, percentage in percentage_diabetes.items():\n",
        "    print(f\"Percentage of people having diabetes in group {group} is {percentage:.2f}%\")"
      ],
      "metadata": {
        "colab": {
          "base_uri": "https://localhost:8080/"
        },
        "id": "quKMSQMmFGOa",
        "outputId": "b32f55a3-3132-4b66-ae75-fa9abdf52d2d"
      },
      "execution_count": null,
      "outputs": [
        {
          "output_type": "stream",
          "name": "stdout",
          "text": [
            "Percentage of people having diabetes in group 1 is 1.70%\n",
            "Percentage of people having diabetes in group 2 is 4.76%\n",
            "Percentage of people having diabetes in group 3 is 13.37%\n",
            "Percentage of people having diabetes in group 4 is 23.09%\n",
            "Percentage of people having diabetes in group 5 is 33.37%\n"
          ]
        }
      ]
    },
    {
      "cell_type": "markdown",
      "source": [
        "Since there is a correlation between people's perceived health and diabetes, I will keep it as it is."
      ],
      "metadata": {
        "id": "OxPZlvzlFgUf"
      }
    },
    {
      "cell_type": "code",
      "source": [
        "# change column name\n",
        "df.rename(columns={'PHSTAT_A':'Health'},inplace=True)"
      ],
      "metadata": {
        "id": "8yC87aGOGJNf"
      },
      "execution_count": null,
      "outputs": []
    },
    {
      "cell_type": "markdown",
      "source": [
        "### 4.2.2 High Blood Pressure, High Cholesterol, Stroke, Heart Attack, Heart Disease, Chronic disorder\n",
        "\n",
        "These columns are already categorical (1 = Yes, 2 = No). I only change it to 1 = Yes, 0 = No to match with other columns, and change column name."
      ],
      "metadata": {
        "id": "nEmNtnvdFl1K"
      }
    },
    {
      "cell_type": "code",
      "source": [
        "# rename\n",
        "df.rename(columns={'HYPEV_A':'HighBP','CHLEV_A':'HighChol','STREV_A':'Stroke',\n",
        "                   'MIEV_A':'HeartAttack','CHDEV_A':'HeartDisease','COPDEV_A':'ChronicDisease'},inplace=True)"
      ],
      "metadata": {
        "id": "xEH2lUaDFR6W"
      },
      "execution_count": null,
      "outputs": []
    },
    {
      "cell_type": "code",
      "source": [
        "# change value\n",
        "df.loc[df['HighBP']==2,'HighBP'] = 0\n",
        "df.loc[df['HighChol']==2,'HighChol'] = 0\n",
        "df.loc[df['Stroke']==2,'Stroke'] = 0\n",
        "df.loc[df['HeartAttack']==2,'HeartAttack'] = 0\n",
        "df.loc[df['HeartDisease']==2,'HeartDisease'] = 0\n",
        "df.loc[df['ChronicDisease']==2,'ChronicDisease'] = 0"
      ],
      "metadata": {
        "id": "7L6oStBGGxnr"
      },
      "execution_count": null,
      "outputs": []
    },
    {
      "cell_type": "code",
      "source": [
        "# exclude those who do not disclose value\n",
        "df = df[df['HighBP']<2]\n",
        "df = df[df['HighChol']<2]\n",
        "df = df[df['Stroke']<2]\n",
        "df = df[df['HeartAttack']<2]\n",
        "df = df[df['HeartDisease']<2]\n",
        "df = df[df['ChronicDisease']<2]"
      ],
      "metadata": {
        "id": "3hn0ZkoVHJXL"
      },
      "execution_count": null,
      "outputs": []
    },
    {
      "cell_type": "markdown",
      "source": [
        "## 4.3 Hospitalization Records\n"
      ],
      "metadata": {
        "id": "PKl3_u03HlIO"
      }
    },
    {
      "cell_type": "markdown",
      "source": [
        "### 4.3.1 Last Doctor visit"
      ],
      "metadata": {
        "id": "-Wq8df5lJP44"
      }
    },
    {
      "cell_type": "code",
      "source": [
        "# Exclude those who do not disclose info\n",
        "\n",
        "df = df[df['LASTDR_A']<7]"
      ],
      "metadata": {
        "id": "F0kb2kUDHgLN"
      },
      "execution_count": null,
      "outputs": []
    },
    {
      "cell_type": "code",
      "source": [
        "# Original dataset has many groups. I group into 3 groups: Within 1 year, Within 2-4 years, More than 4 years\n",
        "\n",
        "def visit(visit):\n",
        "    if visit == 1:\n",
        "        return 1\n",
        "    elif visit > 1 and visit <= 4:\n",
        "        return 2\n",
        "    else:\n",
        "        return 3\n",
        "\n",
        "# Apply the function to create the 'Doctor Visit' column\n",
        "df['Last_Doctor_Visit'] = df['LASTDR_A'].apply(visit)"
      ],
      "metadata": {
        "id": "LvXJ8e97JoUf"
      },
      "execution_count": null,
      "outputs": []
    },
    {
      "cell_type": "code",
      "source": [
        "# Delete LASTDR_A col\n",
        "df.drop(columns=['LASTDR_A'],inplace=True)"
      ],
      "metadata": {
        "id": "vctn789DKV3-"
      },
      "execution_count": null,
      "outputs": []
    },
    {
      "cell_type": "code",
      "source": [
        "percentage_diabetes = df.groupby('Last_Doctor_Visit')['Diabetes'].apply(lambda x: (x == 1).sum() / len(x) * 100)\n",
        "\n",
        "# Display the result\n",
        "for group, percentage in percentage_diabetes.items():\n",
        "    print(f\"Percentage of people having diabetes in group {group} is {percentage:.2f}%\")"
      ],
      "metadata": {
        "colab": {
          "base_uri": "https://localhost:8080/"
        },
        "id": "UZHnVleBJfl2",
        "outputId": "46643484-e33d-40a0-f69b-c1fe404dcf43"
      },
      "execution_count": null,
      "outputs": [
        {
          "output_type": "stream",
          "name": "stdout",
          "text": [
            "Percentage of people having diabetes in group 1 is 11.08%\n",
            "Percentage of people having diabetes in group 2 is 2.13%\n",
            "Percentage of people having diabetes in group 3 is 1.48%\n"
          ]
        }
      ]
    },
    {
      "cell_type": "markdown",
      "source": [
        "There seems to be a correlation. I will keep it as it is."
      ],
      "metadata": {
        "id": "3JktyBhGKqJq"
      }
    },
    {
      "cell_type": "markdown",
      "source": [
        "### 4.3.2 Last Urgent Care visit"
      ],
      "metadata": {
        "id": "1Q0gB4kAKuMv"
      }
    },
    {
      "cell_type": "code",
      "source": [
        "# exclude those who do not disclose\n",
        "df = df[df['URGNT12MTC_A']<7]"
      ],
      "metadata": {
        "id": "HotPPxJLKenW"
      },
      "execution_count": null,
      "outputs": []
    },
    {
      "cell_type": "code",
      "source": [
        "# rename\n",
        "df.rename(columns={'URGNT12MTC_A':'UrgentCare'},inplace=True)"
      ],
      "metadata": {
        "id": "XqBuuGAwMFqM"
      },
      "execution_count": null,
      "outputs": []
    },
    {
      "cell_type": "markdown",
      "source": [
        "This is numerical variables (number of times visit urgent care). I keep it as it is."
      ],
      "metadata": {
        "id": "-KOcprjRLY7q"
      }
    },
    {
      "cell_type": "markdown",
      "source": [
        "### 4.3.3 Emergency"
      ],
      "metadata": {
        "id": "XumBUDJ5LtEk"
      }
    },
    {
      "cell_type": "code",
      "source": [
        "# exclude those who do not disclose\n",
        "df = df[df['EMERG12MTC_A']<5]"
      ],
      "metadata": {
        "id": "9eHxKlFyLYbV"
      },
      "execution_count": null,
      "outputs": []
    },
    {
      "cell_type": "code",
      "source": [
        "# rename\n",
        "df.rename(columns={'EMERG12MTC_A':'Emergency'},inplace=True)"
      ],
      "metadata": {
        "id": "ZpWSuLZvMNwz"
      },
      "execution_count": null,
      "outputs": []
    },
    {
      "cell_type": "markdown",
      "source": [
        "This is numerical variables. I keet it as it is."
      ],
      "metadata": {
        "id": "RewweUHYL18N"
      }
    },
    {
      "cell_type": "markdown",
      "source": [
        "### 4.3.4 Hospitalized and Prescription\n",
        "These two columns contain 1 = Yes and 2 = No. As above, I rename column, change to 1 and 0, and exclude those who do not disclose info."
      ],
      "metadata": {
        "id": "N7kWwCE4L46x"
      }
    },
    {
      "cell_type": "code",
      "source": [
        "# rename\n",
        "df.rename(columns={'HOSPONGT_A':'Hospitalized','RX12M_A':'Prescription'},inplace=True)"
      ],
      "metadata": {
        "id": "7xJPxjM-L1hn"
      },
      "execution_count": null,
      "outputs": []
    },
    {
      "cell_type": "code",
      "source": [
        "# change value\n",
        "df.loc[df['Hospitalized']==2,'Hospitalized'] = 0\n",
        "df.loc[df['Prescription']==2,'Prescription'] = 0"
      ],
      "metadata": {
        "id": "oBbUqnAqMhit"
      },
      "execution_count": null,
      "outputs": []
    },
    {
      "cell_type": "code",
      "source": [
        "# exclude\n",
        "df = df[df['Hospitalized']<2]\n",
        "df = df[df['Prescription']<2]"
      ],
      "metadata": {
        "id": "QqjLRGLOMth7"
      },
      "execution_count": null,
      "outputs": []
    },
    {
      "cell_type": "markdown",
      "source": [
        "## 4.4 Habits"
      ],
      "metadata": {
        "id": "npdrZcbONQsk"
      }
    },
    {
      "cell_type": "markdown",
      "source": [
        "### 4.4.1 Exercise Frequency"
      ],
      "metadata": {
        "id": "Hfg4Ea6INw6E"
      }
    },
    {
      "cell_type": "code",
      "source": [
        "# rename\n",
        "df.rename(columns={'MODFREQW_A':'Exercise'},inplace=True)"
      ],
      "metadata": {
        "id": "iYYUPI7uNNE3"
      },
      "execution_count": null,
      "outputs": []
    },
    {
      "cell_type": "code",
      "source": [
        "# exclude those not disclose\n",
        "df = df[df['Exercise']<97]"
      ],
      "metadata": {
        "id": "15I4k2ooNUM_"
      },
      "execution_count": null,
      "outputs": []
    },
    {
      "cell_type": "code",
      "source": [
        "# Original dataset has many groups. I group into 3 groups: less than once per week, 1-7 times/week, more\n",
        "\n",
        "def exercise(times):\n",
        "    if times == 0 or times == 96:\n",
        "        return 1\n",
        "    elif times > 0 and times <= 7:\n",
        "        return 2\n",
        "    else:\n",
        "        return 3\n",
        "\n",
        "# Apply the function to create the 'Doctor Visit' column\n",
        "df['Exercise'] = df['Exercise'].apply(exercise)"
      ],
      "metadata": {
        "id": "mniNpL79OcqG"
      },
      "execution_count": null,
      "outputs": []
    },
    {
      "cell_type": "code",
      "source": [
        "percentage_diabetes = df.groupby('Exercise')['Diabetes'].apply(lambda x: (x == 1).sum() / len(x) * 100)\n",
        "\n",
        "# Display the result\n",
        "for group, percentage in percentage_diabetes.items():\n",
        "    print(f\"Percentage of people having diabetes in group {group} is {percentage:.2f}%\")"
      ],
      "metadata": {
        "colab": {
          "base_uri": "https://localhost:8080/"
        },
        "id": "rMd3GxGwPEzh",
        "outputId": "b726e612-34fd-4fd4-9219-31285253b910"
      },
      "execution_count": null,
      "outputs": [
        {
          "output_type": "stream",
          "name": "stdout",
          "text": [
            "Percentage of people having diabetes in group 1 is 13.99%\n",
            "Percentage of people having diabetes in group 2 is 7.07%\n",
            "Percentage of people having diabetes in group 3 is 14.79%\n"
          ]
        }
      ]
    },
    {
      "cell_type": "markdown",
      "source": [
        "There is no linear relation between exercise times and diabetes. I will use OneHotEncoding."
      ],
      "metadata": {
        "id": "yS_63PlnPNOi"
      }
    },
    {
      "cell_type": "code",
      "source": [
        "one_hot_encoded = pd.get_dummies(df['Exercise'], prefix='Exercise')\n",
        "\n",
        "# Concatenate the one-hot encoded columns with the original DataFrame\n",
        "df = pd.concat([df, one_hot_encoded], axis=1)"
      ],
      "metadata": {
        "id": "NtJKb1lHPLlE"
      },
      "execution_count": null,
      "outputs": []
    },
    {
      "cell_type": "code",
      "source": [
        "# drop original col\n",
        "df.drop(columns=['Exercise'],inplace=True)\n",
        "\n",
        "# rename new col\n",
        "df.rename(columns={'Exercise_1':'Exercise_Low','Exercise_2':'Exercise_Moderate','Exercise_3':'Exercise_Frequent'},inplace=True)"
      ],
      "metadata": {
        "id": "qfi9lMMFPcah"
      },
      "execution_count": null,
      "outputs": []
    },
    {
      "cell_type": "markdown",
      "source": [
        "### 4.4.2 Equipment"
      ],
      "metadata": {
        "id": "vjl7nXCXP6I1"
      }
    },
    {
      "cell_type": "code",
      "source": [
        "# change column name\n",
        "df.rename(columns={'EQUIP_A':'Equipment_Walk'},inplace=True)\n",
        "\n",
        "# exclude those do not disclose\n",
        "df = df[df['Equipment_Walk']<3]\n",
        "\n",
        "# change 1 Yes 2 No to 1 Yes 0 No\n",
        "df.loc[df['Equipment_Walk']==2,'Equipment_Walk'] = 0"
      ],
      "metadata": {
        "id": "aqHj_7IKP3-D"
      },
      "execution_count": null,
      "outputs": []
    },
    {
      "cell_type": "markdown",
      "source": [
        "### 4.4.3 Smoking"
      ],
      "metadata": {
        "id": "F5vwmjUvQe8a"
      }
    },
    {
      "cell_type": "code",
      "source": [
        "# change column name\n",
        "df.rename(columns={'SMKEV_A':'Smoke'},inplace=True)\n",
        "\n",
        "# exclude those do not disclose\n",
        "df = df[df['Smoke']<3]\n",
        "\n",
        "# change 1 Yes 2 No to 1 Yes 0 No\n",
        "df.loc[df['Smoke']==2,'Smoke'] = 0"
      ],
      "metadata": {
        "id": "9qFO8tzmQaY5"
      },
      "execution_count": null,
      "outputs": []
    },
    {
      "cell_type": "markdown",
      "source": [
        "4.4.4 Drink Alcohol"
      ],
      "metadata": {
        "id": "wEdg4IAgQ0ya"
      }
    },
    {
      "cell_type": "code",
      "source": [
        "# change column name\n",
        "df.rename(columns={'DRKLIFE_A':'Alcohol'},inplace=True)\n",
        "\n",
        "# change 1 Yes 2 No to 1 Yes 0 No\n",
        "df.loc[df['Alcohol']==2,'Alcohol'] = 0"
      ],
      "metadata": {
        "id": "CcUsdCykQjml"
      },
      "execution_count": null,
      "outputs": []
    },
    {
      "cell_type": "markdown",
      "source": [
        "4.4.5 Drinking Soda"
      ],
      "metadata": {
        "id": "ToKlCDxeR-av"
      }
    },
    {
      "cell_type": "code",
      "source": [
        "# change column name\n",
        "df.rename(columns={'SODATP_A':'Soda'},inplace=True)\n",
        "\n",
        "# exclude those who don't disclose\n",
        "df = df[df['Soda']<4]"
      ],
      "metadata": {
        "id": "iPOTWi-HRLHj"
      },
      "execution_count": null,
      "outputs": []
    },
    {
      "cell_type": "code",
      "source": [
        "percentage_diabetes = df.groupby('Soda')['Diabetes'].apply(lambda x: (x == 1).sum() / len(x) * 100)\n",
        "\n",
        "# Display the result\n",
        "for group, percentage in percentage_diabetes.items():\n",
        "    print(f\"Percentage of people having diabetes in group {group} is {percentage:.2f}%\")"
      ],
      "metadata": {
        "colab": {
          "base_uri": "https://localhost:8080/"
        },
        "id": "fLTa-j1ySXPQ",
        "outputId": "252cf103-fce9-4a37-e94e-560b127c058e"
      },
      "execution_count": null,
      "outputs": [
        {
          "output_type": "stream",
          "name": "stdout",
          "text": [
            "Percentage of people having diabetes in group 0 is 12.13%\n",
            "Percentage of people having diabetes in group 1 is 8.44%\n",
            "Percentage of people having diabetes in group 2 is 6.81%\n",
            "Percentage of people having diabetes in group 3 is 7.24%\n"
          ]
        }
      ]
    },
    {
      "cell_type": "markdown",
      "source": [
        "There is no linear relation. I will one hot encode it."
      ],
      "metadata": {
        "id": "jYFbCBLnSdZz"
      }
    },
    {
      "cell_type": "code",
      "source": [
        "one_hot_encoded = pd.get_dummies(df['Soda'], prefix='Soda')\n",
        "\n",
        "# Concatenate the one-hot encoded columns with the original DataFrame\n",
        "df = pd.concat([df, one_hot_encoded], axis=1)"
      ],
      "metadata": {
        "id": "Nf297GdvSZut"
      },
      "execution_count": null,
      "outputs": []
    },
    {
      "cell_type": "code",
      "source": [
        "# drop original col\n",
        "df.drop(columns=['Soda'],inplace=True)"
      ],
      "metadata": {
        "id": "ExGnHy-RSn2e"
      },
      "execution_count": null,
      "outputs": []
    },
    {
      "cell_type": "code",
      "source": [
        "# rename new col\n",
        "df.rename(columns={'Soda_0':'Soda_Never','Soda_1':'Soda_Daily','Soda_2':'Soda_Weekly','Soda_3':'Soda_Monthly'},inplace=True)"
      ],
      "metadata": {
        "id": "lIIqzWRMStOF"
      },
      "execution_count": null,
      "outputs": []
    },
    {
      "cell_type": "markdown",
      "source": [
        "### 4.4.6 Energy Drink"
      ],
      "metadata": {
        "id": "2RRCZww9TXLP"
      }
    },
    {
      "cell_type": "code",
      "source": [
        "# similar to Soda\n",
        "# change column name\n",
        "df.rename(columns={'SPORDRTP_A':'EnergyDrink'},inplace=True)\n",
        "\n",
        "# exclude those who don't disclose\n",
        "df = df[df['EnergyDrink']<4]\n",
        "\n",
        "# one hot encoded\n",
        "one_hot_encoded = pd.get_dummies(df['EnergyDrink'], prefix='EnergyDrink')\n",
        "\n",
        "# Concatenate the one-hot encoded columns with the original DataFrame\n",
        "df = pd.concat([df, one_hot_encoded], axis=1)\n",
        "\n",
        "# drop original col\n",
        "df.drop(columns=['EnergyDrink'],inplace=True)\n",
        "\n",
        "# rename new col\n",
        "df.rename(columns={'EnergyDrink_0':'EnergyDrink_Never','EnergyDrink_1':'EnergyDrink_Daily',\n",
        "                   'EnergyDrink_2':'EnergyDrink_Weekly','EnergyDrink_3':'EnergyDrink_Monthly'},inplace=True)"
      ],
      "metadata": {
        "id": "6v5f6AC0TUyz"
      },
      "execution_count": null,
      "outputs": []
    },
    {
      "cell_type": "markdown",
      "source": [
        "### 4.4.7 Sweetened Drink"
      ],
      "metadata": {
        "id": "6WOfXUiKT8G0"
      }
    },
    {
      "cell_type": "code",
      "source": [
        "# similar to Soda\n",
        "# change column name\n",
        "df.rename(columns={'FRTDRTP_A':'SweetDrink'},inplace=True)\n",
        "\n",
        "# exclude those who don't disclose\n",
        "df = df[df['SweetDrink']<4]\n",
        "\n",
        "# one hot encoded\n",
        "one_hot_encoded = pd.get_dummies(df['SweetDrink'], prefix='SweetDrink')\n",
        "\n",
        "# Concatenate the one-hot encoded columns with the original DataFrame\n",
        "df = pd.concat([df, one_hot_encoded], axis=1)\n",
        "\n",
        "# drop original col\n",
        "df.drop(columns=['SweetDrink'],inplace=True)\n",
        "\n",
        "# rename new col\n",
        "df.rename(columns={'SweetDrink_0':'SweetDrink_Never','SweetDrink_1':'SweetDrink_Daily',\n",
        "                   'SweetDrink_2':'SweetDrink_Weekly','SweetDrink_3':'SweetDrink_Monthly'},inplace=True)"
      ],
      "metadata": {
        "id": "guGqXiK3T5Hj"
      },
      "execution_count": null,
      "outputs": []
    },
    {
      "cell_type": "markdown",
      "source": [
        "### 4.4.8 Fruit"
      ],
      "metadata": {
        "id": "aUPcGMPKUOHR"
      }
    },
    {
      "cell_type": "code",
      "source": [
        "# similar to Soda\n",
        "# change column name\n",
        "df.rename(columns={'FRUITTP_A':'Fruit'},inplace=True)\n",
        "\n",
        "# exclude those who don't disclose\n",
        "df = df[df['Fruit']<4]\n",
        "\n",
        "# one hot encoded\n",
        "one_hot_encoded = pd.get_dummies(df['Fruit'], prefix='Fruit')\n",
        "\n",
        "# Concatenate the one-hot encoded columns with the original DataFrame\n",
        "df = pd.concat([df, one_hot_encoded], axis=1)\n",
        "\n",
        "# drop original col\n",
        "df.drop(columns=['Fruit'],inplace=True)\n",
        "\n",
        "# rename new col\n",
        "df.rename(columns={'Fruit_0':'Fruit_Never','Fruit_1':'Fruit_Daily',\n",
        "                   'Fruit_2':'Fruit_Weekly','Fruit_3':'Fruit_Monthly'},inplace=True)"
      ],
      "metadata": {
        "id": "EhF8PiifUNqV"
      },
      "execution_count": null,
      "outputs": []
    },
    {
      "cell_type": "markdown",
      "source": [
        "### 4.4.9 Salad"
      ],
      "metadata": {
        "id": "jZ2Loyd1UfzK"
      }
    },
    {
      "cell_type": "code",
      "source": [
        "# similar to Soda\n",
        "# change column name\n",
        "df.rename(columns={'SALADTP_A':'Salad'},inplace=True)\n",
        "\n",
        "# exclude those who don't disclose\n",
        "df = df[df['Salad']<4]\n",
        "\n",
        "# one hot encoded\n",
        "one_hot_encoded = pd.get_dummies(df['Salad'], prefix='Salad')\n",
        "\n",
        "# Concatenate the one-hot encoded columns with the original DataFrame\n",
        "df = pd.concat([df, one_hot_encoded], axis=1)\n",
        "\n",
        "# drop original col\n",
        "df.drop(columns=['Salad'],inplace=True)\n",
        "\n",
        "# rename new col\n",
        "df.rename(columns={'Salad_0':'Salad_Never','Salad_1':'Salad_Daily',\n",
        "                   'Salad_2':'Salad_Weekly','Salad_3':'Salad_Monthly'},inplace=True)"
      ],
      "metadata": {
        "id": "jFZYxBUlUdl-"
      },
      "execution_count": null,
      "outputs": []
    },
    {
      "cell_type": "markdown",
      "source": [
        "### 4.4.10 Sleep"
      ],
      "metadata": {
        "id": "psG_35hfdMTA"
      }
    },
    {
      "cell_type": "code",
      "source": [
        "# exclude those who do not disclose info\n",
        "df = df[df['SLPHOURS_A']<25]\n",
        "\n",
        "# Original dataset has many groups. I group into 3 groups: Less than 6 hours/day, 6-9 hours/day, More than 9 hours/day\n",
        "\n",
        "def sleep(hour):\n",
        "    if hour >= 1 and hour < 6:\n",
        "        return 1\n",
        "    elif hour >= 6 and hour <= 9:\n",
        "        return 2\n",
        "    else:\n",
        "        return 3\n",
        "\n",
        "# Apply the function to create the 'Sleep' column\n",
        "df['Sleep'] = df['SLPHOURS_A'].apply(sleep)\n",
        "\n",
        "# Drop original column\n",
        "df.drop(columns=['SLPHOURS_A'],inplace=True)"
      ],
      "metadata": {
        "colab": {
          "base_uri": "https://localhost:8080/"
        },
        "id": "kdKpN7RadOoQ",
        "outputId": "53566df0-7215-4177-cb36-1d901e97b31c"
      },
      "execution_count": null,
      "outputs": [
        {
          "output_type": "stream",
          "name": "stderr",
          "text": [
            "<ipython-input-67-ce5dc5a250ef>:15: SettingWithCopyWarning: \n",
            "A value is trying to be set on a copy of a slice from a DataFrame.\n",
            "Try using .loc[row_indexer,col_indexer] = value instead\n",
            "\n",
            "See the caveats in the documentation: https://pandas.pydata.org/pandas-docs/stable/user_guide/indexing.html#returning-a-view-versus-a-copy\n",
            "  df['Sleep'] = df['SLPHOURS_A'].apply(sleep)\n",
            "<ipython-input-67-ce5dc5a250ef>:18: SettingWithCopyWarning: \n",
            "A value is trying to be set on a copy of a slice from a DataFrame\n",
            "\n",
            "See the caveats in the documentation: https://pandas.pydata.org/pandas-docs/stable/user_guide/indexing.html#returning-a-view-versus-a-copy\n",
            "  df.drop(columns=['SLPHOURS_A'],inplace=True)\n"
          ]
        }
      ]
    },
    {
      "cell_type": "code",
      "source": [
        "percentage_diabetes = df.groupby('Sleep')['Diabetes'].apply(lambda x: (x == 1).sum() / len(x) * 100)\n",
        "\n",
        "# Display the result\n",
        "for group, percentage in percentage_diabetes.items():\n",
        "    print(f\"Percentage of people having diabetes in group {group} is {percentage:.2f}%\")"
      ],
      "metadata": {
        "colab": {
          "base_uri": "https://localhost:8080/"
        },
        "id": "fxKH1TsOefRR",
        "outputId": "22d7a9a8-1bf4-4f18-9d8e-2c93d85b4a37"
      },
      "execution_count": null,
      "outputs": [
        {
          "output_type": "stream",
          "name": "stdout",
          "text": [
            "Percentage of people having diabetes in group 1 is 13.46%\n",
            "Percentage of people having diabetes in group 2 is 8.98%\n",
            "Percentage of people having diabetes in group 3 is 18.49%\n"
          ]
        }
      ]
    },
    {
      "cell_type": "markdown",
      "source": [
        "There is no correlation between Sleep hours and Diabetes. I will encode it."
      ],
      "metadata": {
        "id": "lrCtQsOxepB9"
      }
    },
    {
      "cell_type": "code",
      "source": [
        "# one hot encoded\n",
        "one_hot_encoded = pd.get_dummies(df['Sleep'], prefix='Sleep')\n",
        "\n",
        "# Concatenate the one-hot encoded columns with the original DataFrame\n",
        "df = pd.concat([df, one_hot_encoded], axis=1)\n",
        "\n",
        "# drop original col\n",
        "df.drop(columns=['Sleep'],inplace=True)\n",
        "\n",
        "# rename new col\n",
        "df.rename(columns={'Sleep_1':'Sleep_6h','Sleep_2':'Sleep_6to9h',\n",
        "                   'Sleep_3':'Sleep_9h'},inplace=True)"
      ],
      "metadata": {
        "id": "MaWXMUceeuUR"
      },
      "execution_count": null,
      "outputs": []
    },
    {
      "cell_type": "code",
      "source": [
        "df.info()"
      ],
      "metadata": {
        "colab": {
          "base_uri": "https://localhost:8080/"
        },
        "id": "QOR8lRErU2DI",
        "outputId": "433ae7a4-14bb-42c8-9c9c-828f8a6724a6"
      },
      "execution_count": null,
      "outputs": [
        {
          "output_type": "stream",
          "name": "stdout",
          "text": [
            "<class 'pandas.core.frame.DataFrame'>\n",
            "Int64Index: 25382 entries, 0 to 27650\n",
            "Data columns (total 55 columns):\n",
            " #   Column               Non-Null Count  Dtype\n",
            "---  ------               --------------  -----\n",
            " 0   Diabetes             25382 non-null  int64\n",
            " 1   AGEP_A               25382 non-null  int64\n",
            " 2   Education            25382 non-null  int64\n",
            " 3   BMI                  25382 non-null  int64\n",
            " 4   Health               25382 non-null  int64\n",
            " 5   HighBP               25382 non-null  int64\n",
            " 6   HighChol             25382 non-null  int64\n",
            " 7   Stroke               25382 non-null  int64\n",
            " 8   HeartAttack          25382 non-null  int64\n",
            " 9   HeartDisease         25382 non-null  int64\n",
            " 10  ChronicDisease       25382 non-null  int64\n",
            " 11  UrgentCare           25382 non-null  int64\n",
            " 12  Emergency            25382 non-null  int64\n",
            " 13  Hospitalized         25382 non-null  int64\n",
            " 14  Prescription         25382 non-null  int64\n",
            " 15  Equipment_Walk       25382 non-null  int64\n",
            " 16  Smoke                25382 non-null  int64\n",
            " 17  Alcohol              25382 non-null  int64\n",
            " 18  Age_Group            25382 non-null  int64\n",
            " 19  Race_White           25382 non-null  uint8\n",
            " 20  Race_Black           25382 non-null  uint8\n",
            " 21  Race_Asian           25382 non-null  uint8\n",
            " 22  Race_AIAN            25382 non-null  uint8\n",
            " 23  Race_Mixed           25382 non-null  uint8\n",
            " 24  Race_Others          25382 non-null  uint8\n",
            " 25  Female               25382 non-null  uint8\n",
            " 26  Male                 25382 non-null  uint8\n",
            " 27  Education            25382 non-null  int64\n",
            " 28  Last_Doctor_Visit    25382 non-null  int64\n",
            " 29  Exercise_Low         25382 non-null  uint8\n",
            " 30  Exercise_Moderate    25382 non-null  uint8\n",
            " 31  Exercise_Frequent    25382 non-null  uint8\n",
            " 32  Soda_Never           25382 non-null  uint8\n",
            " 33  Soda_Daily           25382 non-null  uint8\n",
            " 34  Soda_Weekly          25382 non-null  uint8\n",
            " 35  Soda_Monthly         25382 non-null  uint8\n",
            " 36  EnergyDrink_Never    25382 non-null  uint8\n",
            " 37  EnergyDrink_Daily    25382 non-null  uint8\n",
            " 38  EnergyDrink_Weekly   25382 non-null  uint8\n",
            " 39  EnergyDrink_Monthly  25382 non-null  uint8\n",
            " 40  SweetDrink_Never     25382 non-null  uint8\n",
            " 41  SweetDrink_Daily     25382 non-null  uint8\n",
            " 42  SweetDrink_Weekly    25382 non-null  uint8\n",
            " 43  SweetDrink_Monthly   25382 non-null  uint8\n",
            " 44  Fruit_Never          25382 non-null  uint8\n",
            " 45  Fruit_Daily          25382 non-null  uint8\n",
            " 46  Fruit_Weekly         25382 non-null  uint8\n",
            " 47  Fruit_Monthly        25382 non-null  uint8\n",
            " 48  Salad_Never          25382 non-null  uint8\n",
            " 49  Salad_Daily          25382 non-null  uint8\n",
            " 50  Salad_Weekly         25382 non-null  uint8\n",
            " 51  Salad_Monthly        25382 non-null  uint8\n",
            " 52  Sleep_6h             25382 non-null  uint8\n",
            " 53  Sleep_6to9h          25382 non-null  uint8\n",
            " 54  Sleep_9h             25382 non-null  uint8\n",
            "dtypes: int64(21), uint8(34)\n",
            "memory usage: 5.1 MB\n"
          ]
        }
      ]
    },
    {
      "cell_type": "markdown",
      "source": [
        "After data preprocessing, we now have 1 output variables, 54 input variables. Total 25382 rows. If you find the dataset too large and computationally expensive, you can use SelectKBest to do feature selection and reduce the number of features. I can help you with that too."
      ],
      "metadata": {
        "id": "-iZt9ctFWylh"
      }
    },
    {
      "cell_type": "code",
      "source": [
        "df.isna().sum()"
      ],
      "metadata": {
        "id": "ZfLcjKE8fZc0",
        "outputId": "9a93d3ce-d250-4a1e-aab4-8c6d50207dc8",
        "colab": {
          "base_uri": "https://localhost:8080/"
        }
      },
      "execution_count": null,
      "outputs": [
        {
          "output_type": "execute_result",
          "data": {
            "text/plain": [
              "Diabetes               0\n",
              "AGEP_A                 0\n",
              "Education              0\n",
              "BMI                    0\n",
              "Health                 0\n",
              "HighBP                 0\n",
              "HighChol               0\n",
              "Stroke                 0\n",
              "HeartAttack            0\n",
              "HeartDisease           0\n",
              "ChronicDisease         0\n",
              "UrgentCare             0\n",
              "Emergency              0\n",
              "Hospitalized           0\n",
              "Prescription           0\n",
              "Equipment_Walk         0\n",
              "Smoke                  0\n",
              "Alcohol                0\n",
              "Age_Group              0\n",
              "Race_White             0\n",
              "Race_Black             0\n",
              "Race_Asian             0\n",
              "Race_AIAN              0\n",
              "Race_Mixed             0\n",
              "Race_Others            0\n",
              "Female                 0\n",
              "Male                   0\n",
              "Education              0\n",
              "Last_Doctor_Visit      0\n",
              "Exercise_Low           0\n",
              "Exercise_Moderate      0\n",
              "Exercise_Frequent      0\n",
              "Soda_Never             0\n",
              "Soda_Daily             0\n",
              "Soda_Weekly            0\n",
              "Soda_Monthly           0\n",
              "EnergyDrink_Never      0\n",
              "EnergyDrink_Daily      0\n",
              "EnergyDrink_Weekly     0\n",
              "EnergyDrink_Monthly    0\n",
              "SweetDrink_Never       0\n",
              "SweetDrink_Daily       0\n",
              "SweetDrink_Weekly      0\n",
              "SweetDrink_Monthly     0\n",
              "Fruit_Never            0\n",
              "Fruit_Daily            0\n",
              "Fruit_Weekly           0\n",
              "Fruit_Monthly          0\n",
              "Salad_Never            0\n",
              "Salad_Daily            0\n",
              "Salad_Weekly           0\n",
              "Salad_Monthly          0\n",
              "Sleep_6h               0\n",
              "Sleep_6to9h            0\n",
              "Sleep_9h               0\n",
              "dtype: int64"
            ]
          },
          "metadata": {},
          "execution_count": 71
        }
      ]
    },
    {
      "cell_type": "code",
      "source": [
        "# Number of Diabetes vs Non-diabetes\n",
        "\n",
        "len(df[df['Diabetes']==1])"
      ],
      "metadata": {
        "colab": {
          "base_uri": "https://localhost:8080/"
        },
        "id": "0i0CwT9JlZXB",
        "outputId": "54da2b21-afc2-450f-f2e8-1268b081bb20"
      },
      "execution_count": null,
      "outputs": [
        {
          "output_type": "execute_result",
          "data": {
            "text/plain": [
              "2471"
            ]
          },
          "metadata": {},
          "execution_count": 73
        }
      ]
    },
    {
      "cell_type": "markdown",
      "source": [
        "The number of Diabetes (true positives) is too small (9.7%). This can lead to low f1-score eventhough the model can achieve high accuracy. To prevent this problem, I will perform SMOTE to oversample the minority group (Diabetes). This method will undoubtedly decrease accuracy but not too much, while significantly improve f1-score. Therefore, we think using SMOTE is appropriate."
      ],
      "metadata": {
        "id": "lJm3teUU153B"
      }
    },
    {
      "cell_type": "code",
      "source": [
        "# download the data\n",
        "\n",
        "df.to_csv('clean_data_2.csv')\n",
        "\n",
        "from google.colab import files\n",
        "files.download('clean_data_2.csv')"
      ],
      "metadata": {
        "colab": {
          "base_uri": "https://localhost:8080/",
          "height": 17
        },
        "id": "3MJLlwByU3kB",
        "outputId": "b550a2d8-c366-46a6-891e-292e19175f96"
      },
      "execution_count": null,
      "outputs": [
        {
          "output_type": "display_data",
          "data": {
            "text/plain": [
              "<IPython.core.display.Javascript object>"
            ],
            "application/javascript": [
              "\n",
              "    async function download(id, filename, size) {\n",
              "      if (!google.colab.kernel.accessAllowed) {\n",
              "        return;\n",
              "      }\n",
              "      const div = document.createElement('div');\n",
              "      const label = document.createElement('label');\n",
              "      label.textContent = `Downloading \"${filename}\": `;\n",
              "      div.appendChild(label);\n",
              "      const progress = document.createElement('progress');\n",
              "      progress.max = size;\n",
              "      div.appendChild(progress);\n",
              "      document.body.appendChild(div);\n",
              "\n",
              "      const buffers = [];\n",
              "      let downloaded = 0;\n",
              "\n",
              "      const channel = await google.colab.kernel.comms.open(id);\n",
              "      // Send a message to notify the kernel that we're ready.\n",
              "      channel.send({})\n",
              "\n",
              "      for await (const message of channel.messages) {\n",
              "        // Send a message to notify the kernel that we're ready.\n",
              "        channel.send({})\n",
              "        if (message.buffers) {\n",
              "          for (const buffer of message.buffers) {\n",
              "            buffers.push(buffer);\n",
              "            downloaded += buffer.byteLength;\n",
              "            progress.value = downloaded;\n",
              "          }\n",
              "        }\n",
              "      }\n",
              "      const blob = new Blob(buffers, {type: 'application/binary'});\n",
              "      const a = document.createElement('a');\n",
              "      a.href = window.URL.createObjectURL(blob);\n",
              "      a.download = filename;\n",
              "      div.appendChild(a);\n",
              "      a.click();\n",
              "      div.remove();\n",
              "    }\n",
              "  "
            ]
          },
          "metadata": {}
        },
        {
          "output_type": "display_data",
          "data": {
            "text/plain": [
              "<IPython.core.display.Javascript object>"
            ],
            "application/javascript": [
              "download(\"download_01ba22c0-332d-454d-8490-98e2f6069c81\", \"clean_data_2.csv\", 2961197)"
            ]
          },
          "metadata": {}
        }
      ]
    },
    {
      "cell_type": "markdown",
      "source": [
        "## Visualization"
      ],
      "metadata": {
        "id": "G_5nekeK0oiz"
      }
    },
    {
      "cell_type": "code",
      "source": [
        "column = ['Race_White', 'Race_Black', 'Race_Asian', 'Race_AIAN', 'Race_Mixed', 'Race_Others']\n",
        "\n",
        "for col in column:\n",
        "    plt.bar(df[col].name, df[col].sum(), color='skyblue')\n",
        "\n",
        "plt.xlabel('Race')\n",
        "plt.xticks(column, ['White','Black','Asian','AIAN','Mixed','Others'])\n",
        "plt.ylabel('Count')\n",
        "plt.title('Distribution of Races')\n",
        "plt.show()"
      ],
      "metadata": {
        "id": "SIUCXJQdX1L8",
        "colab": {
          "base_uri": "https://localhost:8080/",
          "height": 472
        },
        "outputId": "cc9133c5-f8fa-4c56-9f7a-34c2440f2968"
      },
      "execution_count": null,
      "outputs": [
        {
          "output_type": "display_data",
          "data": {
            "text/plain": [
              "<Figure size 640x480 with 1 Axes>"
            ],
            "image/png": "[encoded data removed]"
          },
          "metadata": {}
        }
      ]
    },
    {
      "cell_type": "code",
      "source": [
        "import matplotlib.pyplot as plt\n",
        "\n",
        "plt.figure(figsize=(10, 6))  # Adjust the figure size if needed\n",
        "plt.hist(df['AGEP_A'], bins=10, color='skyblue', edgecolor='black')\n",
        "plt.xlabel('Age')\n",
        "plt.ylabel('Frequency')\n",
        "plt.title('Distribution of Ages')\n",
        "plt.show()"
      ],
      "metadata": {
        "colab": {
          "base_uri": "https://localhost:8080/",
          "height": 564
        },
        "id": "cAliIIewGQsx",
        "outputId": "eb2f4f6c-1a95-4cd5-b1f1-eb09688fec60"
      },
      "execution_count": null,
      "outputs": [
        {
          "output_type": "display_data",
          "data": {
            "text/plain": [
              "<Figure size 1000x600 with 1 Axes>"
            ],
            "image/png": "[encoded data removed]"
          },
          "metadata": {}
        }
      ]
    },
    {
      "cell_type": "code",
      "source": [
        "column = ['Female','Male']\n",
        "\n",
        "for col in column:\n",
        "    plt.bar(df[col].name, df[col].sum(), color='skyblue')\n",
        "\n",
        "plt.xlabel('Gender')\n",
        "plt.ylabel('Count')\n",
        "plt.title('Distribution of Gender')\n",
        "plt.show()"
      ],
      "metadata": {
        "colab": {
          "base_uri": "https://localhost:8080/",
          "height": 472
        },
        "id": "nlV5GdowGTSM",
        "outputId": "67581dd4-3183-42d5-9f0c-3f80e1519839"
      },
      "execution_count": null,
      "outputs": [
        {
          "output_type": "display_data",
          "data": {
            "text/plain": [
              "<Figure size 640x480 with 1 Axes>"
            ],
            "image/png": "[encoded data removed]"
          },
          "metadata": {}
        }
      ]
    }
  ]
}